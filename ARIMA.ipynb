{
  "nbformat": 4,
  "nbformat_minor": 0,
  "metadata": {
    "colab": {
      "name": "ARIMA.ipynb",
      "provenance": [],
      "collapsed_sections": [],
      "include_colab_link": true
    },
    "kernelspec": {
      "name": "python3",
      "display_name": "Python 3"
    }
  },
  "cells": [
    {
      "cell_type": "markdown",
      "metadata": {
        "id": "view-in-github",
        "colab_type": "text"
      },
      "source": [
        "<a href=\"https://colab.research.google.com/github/PyungkangHong094/timeseries/blob/main/ARIMA.ipynb\" target=\"_parent\"><img src=\"https://colab.research.google.com/assets/colab-badge.svg\" alt=\"Open In Colab\"/></a>"
      ]
    },
    {
      "cell_type": "code",
      "metadata": {
        "id": "Er7Aiy6MUjY5"
      },
      "source": [
        "import matplotlib as mpl\n",
        "import matplotlib.pyplot as plt\n",
        "import numpy as np\n",
        "import os\n",
        "import tensorflow as tf\n",
        "from datetime import datetime\n",
        "import pandas as pd\n",
        "import plotly.express as px\n",
        "from sklearn.preprocessing import MinMaxScaler, StandardScaler\n",
        "from keras.preprocessing.sequence import TimeseriesGenerator\n",
        "from sklearn.model_selection import train_test_split\n",
        "from sklearn.linear_model import LinearRegression\n",
        "\n",
        "# univariate one step problem with mlp\n",
        "# from numpy import array\n",
        "from keras.models import Sequential\n",
        "from keras.layers import Dense\n",
        "from keras.preprocessing.sequence import TimeseriesGenerator\n",
        "\n",
        "mpl.rcParams['figure.figsize'] = (10, 8)\n",
        "mpl.rcParams['axes.grid'] = False"
      ],
      "execution_count": 4,
      "outputs": []
    },
    {
      "cell_type": "code",
      "metadata": {
        "id": "QFpfliaRUqxc"
      },
      "source": [
        "data = pd.read_csv('nyc_taxi_3.csv')"
      ],
      "execution_count": 5,
      "outputs": []
    },
    {
      "cell_type": "code",
      "metadata": {
        "id": "ilRW1Nl3DJU7"
      },
      "source": [
        "data.set_index('timestamp')[['value', 'temp', 'precipitation', 'snowfall', 'windspeed']]\n",
        "data_input = data[['value', 'temp', 'precipitation', 'snowfall', 'windspeed']]"
      ],
      "execution_count": 7,
      "outputs": []
    },
    {
      "cell_type": "code",
      "metadata": {
        "colab": {
          "base_uri": "https://localhost:8080/",
          "height": 405
        },
        "id": "vjMXnh-EUwps",
        "outputId": "9d19cd24-0b1b-4b59-973f-0f3140d09734"
      },
      "source": [
        "data"
      ],
      "execution_count": 8,
      "outputs": [
        {
          "output_type": "execute_result",
          "data": {
            "text/html": [
              "<div>\n",
              "<style scoped>\n",
              "    .dataframe tbody tr th:only-of-type {\n",
              "        vertical-align: middle;\n",
              "    }\n",
              "\n",
              "    .dataframe tbody tr th {\n",
              "        vertical-align: top;\n",
              "    }\n",
              "\n",
              "    .dataframe thead th {\n",
              "        text-align: right;\n",
              "    }\n",
              "</style>\n",
              "<table border=\"1\" class=\"dataframe\">\n",
              "  <thead>\n",
              "    <tr style=\"text-align: right;\">\n",
              "      <th></th>\n",
              "      <th>timestamp</th>\n",
              "      <th>value</th>\n",
              "      <th>temp</th>\n",
              "      <th>precipitation</th>\n",
              "      <th>snowfall</th>\n",
              "      <th>windspeed</th>\n",
              "    </tr>\n",
              "  </thead>\n",
              "  <tbody>\n",
              "    <tr>\n",
              "      <th>0</th>\n",
              "      <td>2014.7.1 0:00</td>\n",
              "      <td>10844</td>\n",
              "      <td>14.370529</td>\n",
              "      <td>0.0</td>\n",
              "      <td>0.00</td>\n",
              "      <td>4.104631</td>\n",
              "    </tr>\n",
              "    <tr>\n",
              "      <th>1</th>\n",
              "      <td>2014.7.1 1:00</td>\n",
              "      <td>6210</td>\n",
              "      <td>13.450529</td>\n",
              "      <td>0.0</td>\n",
              "      <td>0.00</td>\n",
              "      <td>4.104631</td>\n",
              "    </tr>\n",
              "    <tr>\n",
              "      <th>2</th>\n",
              "      <td>2014.7.1 2:00</td>\n",
              "      <td>3820</td>\n",
              "      <td>12.840529</td>\n",
              "      <td>0.0</td>\n",
              "      <td>0.00</td>\n",
              "      <td>3.396233</td>\n",
              "    </tr>\n",
              "    <tr>\n",
              "      <th>3</th>\n",
              "      <td>2014.7.1 3:00</td>\n",
              "      <td>2369</td>\n",
              "      <td>12.160529</td>\n",
              "      <td>0.0</td>\n",
              "      <td>0.00</td>\n",
              "      <td>4.394360</td>\n",
              "    </tr>\n",
              "    <tr>\n",
              "      <th>4</th>\n",
              "      <td>2014.7.1 4:00</td>\n",
              "      <td>2221</td>\n",
              "      <td>11.540529</td>\n",
              "      <td>0.0</td>\n",
              "      <td>0.00</td>\n",
              "      <td>5.959060</td>\n",
              "    </tr>\n",
              "    <tr>\n",
              "      <th>...</th>\n",
              "      <td>...</td>\n",
              "      <td>...</td>\n",
              "      <td>...</td>\n",
              "      <td>...</td>\n",
              "      <td>...</td>\n",
              "      <td>...</td>\n",
              "    </tr>\n",
              "    <tr>\n",
              "      <th>5155</th>\n",
              "      <td>2015.1.31 19:00</td>\n",
              "      <td>28804</td>\n",
              "      <td>2.700529</td>\n",
              "      <td>0.2</td>\n",
              "      <td>0.14</td>\n",
              "      <td>20.929596</td>\n",
              "    </tr>\n",
              "    <tr>\n",
              "      <th>5156</th>\n",
              "      <td>2015.1.31 20:00</td>\n",
              "      <td>24985</td>\n",
              "      <td>2.030528</td>\n",
              "      <td>0.0</td>\n",
              "      <td>0.00</td>\n",
              "      <td>20.880001</td>\n",
              "    </tr>\n",
              "    <tr>\n",
              "      <th>5157</th>\n",
              "      <td>2015.1.31 21:00</td>\n",
              "      <td>23719</td>\n",
              "      <td>1.660529</td>\n",
              "      <td>0.0</td>\n",
              "      <td>0.00</td>\n",
              "      <td>19.469976</td>\n",
              "    </tr>\n",
              "    <tr>\n",
              "      <th>5158</th>\n",
              "      <td>2015.1.31 22:00</td>\n",
              "      <td>25721</td>\n",
              "      <td>1.180529</td>\n",
              "      <td>0.0</td>\n",
              "      <td>0.00</td>\n",
              "      <td>15.379206</td>\n",
              "    </tr>\n",
              "    <tr>\n",
              "      <th>5159</th>\n",
              "      <td>2015.1.31 23:00</td>\n",
              "      <td>26591</td>\n",
              "      <td>0.530529</td>\n",
              "      <td>0.0</td>\n",
              "      <td>0.00</td>\n",
              "      <td>16.548256</td>\n",
              "    </tr>\n",
              "  </tbody>\n",
              "</table>\n",
              "<p>5160 rows × 6 columns</p>\n",
              "</div>"
            ],
            "text/plain": [
              "            timestamp  value       temp  precipitation  snowfall  windspeed\n",
              "0       2014.7.1 0:00  10844  14.370529            0.0      0.00   4.104631\n",
              "1       2014.7.1 1:00   6210  13.450529            0.0      0.00   4.104631\n",
              "2       2014.7.1 2:00   3820  12.840529            0.0      0.00   3.396233\n",
              "3       2014.7.1 3:00   2369  12.160529            0.0      0.00   4.394360\n",
              "4       2014.7.1 4:00   2221  11.540529            0.0      0.00   5.959060\n",
              "...               ...    ...        ...            ...       ...        ...\n",
              "5155  2015.1.31 19:00  28804   2.700529            0.2      0.14  20.929596\n",
              "5156  2015.1.31 20:00  24985   2.030528            0.0      0.00  20.880001\n",
              "5157  2015.1.31 21:00  23719   1.660529            0.0      0.00  19.469976\n",
              "5158  2015.1.31 22:00  25721   1.180529            0.0      0.00  15.379206\n",
              "5159  2015.1.31 23:00  26591   0.530529            0.0      0.00  16.548256\n",
              "\n",
              "[5160 rows x 6 columns]"
            ]
          },
          "metadata": {
            "tags": []
          },
          "execution_count": 8
        }
      ]
    },
    {
      "cell_type": "code",
      "metadata": {
        "colab": {
          "base_uri": "https://localhost:8080/",
          "height": 405
        },
        "id": "AMXefWjkDak0",
        "outputId": "c07121a8-be6c-4145-d2d0-e4017aac17c1"
      },
      "source": [
        "data_input"
      ],
      "execution_count": 9,
      "outputs": [
        {
          "output_type": "execute_result",
          "data": {
            "text/html": [
              "<div>\n",
              "<style scoped>\n",
              "    .dataframe tbody tr th:only-of-type {\n",
              "        vertical-align: middle;\n",
              "    }\n",
              "\n",
              "    .dataframe tbody tr th {\n",
              "        vertical-align: top;\n",
              "    }\n",
              "\n",
              "    .dataframe thead th {\n",
              "        text-align: right;\n",
              "    }\n",
              "</style>\n",
              "<table border=\"1\" class=\"dataframe\">\n",
              "  <thead>\n",
              "    <tr style=\"text-align: right;\">\n",
              "      <th></th>\n",
              "      <th>value</th>\n",
              "      <th>temp</th>\n",
              "      <th>precipitation</th>\n",
              "      <th>snowfall</th>\n",
              "      <th>windspeed</th>\n",
              "    </tr>\n",
              "  </thead>\n",
              "  <tbody>\n",
              "    <tr>\n",
              "      <th>0</th>\n",
              "      <td>10844</td>\n",
              "      <td>14.370529</td>\n",
              "      <td>0.0</td>\n",
              "      <td>0.00</td>\n",
              "      <td>4.104631</td>\n",
              "    </tr>\n",
              "    <tr>\n",
              "      <th>1</th>\n",
              "      <td>6210</td>\n",
              "      <td>13.450529</td>\n",
              "      <td>0.0</td>\n",
              "      <td>0.00</td>\n",
              "      <td>4.104631</td>\n",
              "    </tr>\n",
              "    <tr>\n",
              "      <th>2</th>\n",
              "      <td>3820</td>\n",
              "      <td>12.840529</td>\n",
              "      <td>0.0</td>\n",
              "      <td>0.00</td>\n",
              "      <td>3.396233</td>\n",
              "    </tr>\n",
              "    <tr>\n",
              "      <th>3</th>\n",
              "      <td>2369</td>\n",
              "      <td>12.160529</td>\n",
              "      <td>0.0</td>\n",
              "      <td>0.00</td>\n",
              "      <td>4.394360</td>\n",
              "    </tr>\n",
              "    <tr>\n",
              "      <th>4</th>\n",
              "      <td>2221</td>\n",
              "      <td>11.540529</td>\n",
              "      <td>0.0</td>\n",
              "      <td>0.00</td>\n",
              "      <td>5.959060</td>\n",
              "    </tr>\n",
              "    <tr>\n",
              "      <th>...</th>\n",
              "      <td>...</td>\n",
              "      <td>...</td>\n",
              "      <td>...</td>\n",
              "      <td>...</td>\n",
              "      <td>...</td>\n",
              "    </tr>\n",
              "    <tr>\n",
              "      <th>5155</th>\n",
              "      <td>28804</td>\n",
              "      <td>2.700529</td>\n",
              "      <td>0.2</td>\n",
              "      <td>0.14</td>\n",
              "      <td>20.929596</td>\n",
              "    </tr>\n",
              "    <tr>\n",
              "      <th>5156</th>\n",
              "      <td>24985</td>\n",
              "      <td>2.030528</td>\n",
              "      <td>0.0</td>\n",
              "      <td>0.00</td>\n",
              "      <td>20.880001</td>\n",
              "    </tr>\n",
              "    <tr>\n",
              "      <th>5157</th>\n",
              "      <td>23719</td>\n",
              "      <td>1.660529</td>\n",
              "      <td>0.0</td>\n",
              "      <td>0.00</td>\n",
              "      <td>19.469976</td>\n",
              "    </tr>\n",
              "    <tr>\n",
              "      <th>5158</th>\n",
              "      <td>25721</td>\n",
              "      <td>1.180529</td>\n",
              "      <td>0.0</td>\n",
              "      <td>0.00</td>\n",
              "      <td>15.379206</td>\n",
              "    </tr>\n",
              "    <tr>\n",
              "      <th>5159</th>\n",
              "      <td>26591</td>\n",
              "      <td>0.530529</td>\n",
              "      <td>0.0</td>\n",
              "      <td>0.00</td>\n",
              "      <td>16.548256</td>\n",
              "    </tr>\n",
              "  </tbody>\n",
              "</table>\n",
              "<p>5160 rows × 5 columns</p>\n",
              "</div>"
            ],
            "text/plain": [
              "      value       temp  precipitation  snowfall  windspeed\n",
              "0     10844  14.370529            0.0      0.00   4.104631\n",
              "1      6210  13.450529            0.0      0.00   4.104631\n",
              "2      3820  12.840529            0.0      0.00   3.396233\n",
              "3      2369  12.160529            0.0      0.00   4.394360\n",
              "4      2221  11.540529            0.0      0.00   5.959060\n",
              "...     ...        ...            ...       ...        ...\n",
              "5155  28804   2.700529            0.2      0.14  20.929596\n",
              "5156  24985   2.030528            0.0      0.00  20.880001\n",
              "5157  23719   1.660529            0.0      0.00  19.469976\n",
              "5158  25721   1.180529            0.0      0.00  15.379206\n",
              "5159  26591   0.530529            0.0      0.00  16.548256\n",
              "\n",
              "[5160 rows x 5 columns]"
            ]
          },
          "metadata": {
            "tags": []
          },
          "execution_count": 9
        }
      ]
    },
    {
      "cell_type": "markdown",
      "metadata": {
        "id": "krLz1ajrM6CW"
      },
      "source": [
        "### 1. load data\n",
        "### 2. split into train/test by time\n",
        "### 3.1. train scaler_x on the x_train (use StandardScaler!)\n",
        "3.2. train scaler_y on the y_train\n",
        "\n",
        "4.1. Apply scaler_x to x_train and x_test => x_train_scaled, x_test_scaled\n",
        "4.2. Apply scaler_y to y_train and y_test => y_train_scaled, y_test_scaled\n",
        "5. Make TimeseriesGenerator for x_train_scaled and y_train_scaled for the window=168 => x_train_window, y_train_window\n",
        "6. Train https://scikit-learn.org/stable/modules/generated/sklearn.linear_model.LinearRegression.html using x_train_window as inputs and y_train_window as target => model\n",
        "7. Compute predictions of the model for scaled datasets => pred_train_scaled, pred_test_scaled\n",
        "8. Reverse predictions using function inverse_transform for the scaler => pred_train, pred_test\n",
        "9. Compute evaluations: MSE and MAPE\n",
        "\n"
      ]
    },
    {
      "cell_type": "code",
      "metadata": {
        "colab": {
          "base_uri": "https://localhost:8080/"
        },
        "id": "ovCexdNzCRqr",
        "outputId": "48ad8fd8-a5d6-489e-df57-4b1e0f88f0e3"
      },
      "source": [
        "# Load sunspot data\n",
        "from pandas import read_csv\n",
        "from matplotlib import pyplot\n",
        "df = read_csv('nyc_taxi_3.csv')\n",
        "print(df.head())\n",
        "# series.plot()\n",
        "pyplot.show()"
      ],
      "execution_count": 11,
      "outputs": [
        {
          "output_type": "stream",
          "text": [
            "       timestamp  value       temp  precipitation  snowfall  windspeed\n",
            "0  2014.7.1 0:00  10844  14.370529            0.0       0.0   4.104631\n",
            "1  2014.7.1 1:00   6210  13.450529            0.0       0.0   4.104631\n",
            "2  2014.7.1 2:00   3820  12.840529            0.0       0.0   3.396233\n",
            "3  2014.7.1 3:00   2369  12.160529            0.0       0.0   4.394360\n",
            "4  2014.7.1 4:00   2221  11.540529            0.0       0.0   5.959060\n"
          ],
          "name": "stdout"
        }
      ]
    },
    {
      "cell_type": "code",
      "metadata": {
        "id": "kJXcEuqbiGQr"
      },
      "source": [
        "df['timestamp'] = pd.to_datetime(df['timestamp'], infer_datetime_format=True)"
      ],
      "execution_count": 12,
      "outputs": []
    },
    {
      "cell_type": "code",
      "metadata": {
        "id": "9tHfyfcmiGkx"
      },
      "source": [
        ""
      ],
      "execution_count": 12,
      "outputs": []
    },
    {
      "cell_type": "code",
      "metadata": {
        "id": "SfULflQfiGok"
      },
      "source": [
        "##################################### ###################################"
      ],
      "execution_count": 13,
      "outputs": []
    },
    {
      "cell_type": "code",
      "metadata": {
        "colab": {
          "base_uri": "https://localhost:8080/"
        },
        "id": "Z5wuIphUxUWt",
        "outputId": "38d37af7-d7f3-4ed7-ebb7-42b7ef84229a"
      },
      "source": [
        "from pandas import read_csv\n",
        "series = read_csv('nyc_taxi_3.csv', header=0, index_col=0)\n",
        "X = series.values\n",
        "train_size = int(len(X) * 0.8)\n",
        "train, test = X[0:train_size], X[train_size:len(X)]\n",
        "print('Observations: %d' % (len(X)))\n",
        "print('Training Observations: %d' % (len(train)))\n",
        "print('Testing Observations: %d' % (len(test)))"
      ],
      "execution_count": 29,
      "outputs": [
        {
          "output_type": "stream",
          "text": [
            "Observations: 5160\n",
            "Training Observations: 4128\n",
            "Testing Observations: 1032\n"
          ],
          "name": "stdout"
        }
      ]
    },
    {
      "cell_type": "code",
      "metadata": {
        "colab": {
          "base_uri": "https://localhost:8080/"
        },
        "id": "kp6RaGB-zFt3",
        "outputId": "8992f150-fa08-4522-d50d-4cf16ff91c81"
      },
      "source": [
        "from pandas import read_csv\n",
        "series = read_csv('nyc_taxi_3.csv', header=0, index_col=0)\n",
        "X = series.values\n",
        "train_size = int(len(X) * 0.2)\n",
        "y_train, y_test = X[0:train_size], X[train_size:len(X)]\n",
        "print('Observations: %d' % (len(X)))\n",
        "print('Training Observations: %d' % (len(y_train)))\n",
        "print('Testing Observations: %d' % (len(y_test)))"
      ],
      "execution_count": 30,
      "outputs": [
        {
          "output_type": "stream",
          "text": [
            "Observations: 5160\n",
            "Training Observations: 1032\n",
            "Testing Observations: 4128\n"
          ],
          "name": "stdout"
        }
      ]
    },
    {
      "cell_type": "code",
      "metadata": {
        "colab": {
          "base_uri": "https://localhost:8080/"
        },
        "id": "LfgPu_JEbXP-",
        "outputId": "17945494-ab04-4917-c25d-03d36a330086"
      },
      "source": [
        "train.shape"
      ],
      "execution_count": 15,
      "outputs": [
        {
          "output_type": "execute_result",
          "data": {
            "text/plain": [
              "(4128, 5)"
            ]
          },
          "metadata": {
            "tags": []
          },
          "execution_count": 15
        }
      ]
    },
    {
      "cell_type": "code",
      "metadata": {
        "colab": {
          "base_uri": "https://localhost:8080/"
        },
        "id": "puLz9F6ybklr",
        "outputId": "ada7a0db-4372-4f4c-ba06-d4d25deee4cb"
      },
      "source": [
        "test.shape"
      ],
      "execution_count": 16,
      "outputs": [
        {
          "output_type": "execute_result",
          "data": {
            "text/plain": [
              "(1032, 5)"
            ]
          },
          "metadata": {
            "tags": []
          },
          "execution_count": 16
        }
      ]
    },
    {
      "cell_type": "code",
      "metadata": {
        "colab": {
          "base_uri": "https://localhost:8080/"
        },
        "id": "IC5GGFIoblnk",
        "outputId": "4babd99f-96eb-4263-98ea-bc993fa18a00"
      },
      "source": [
        "train # 나누어준 트레인"
      ],
      "execution_count": 17,
      "outputs": [
        {
          "output_type": "execute_result",
          "data": {
            "text/plain": [
              "array([[1.0844000e+04, 1.4370529e+01, 0.0000000e+00, 0.0000000e+00,\n",
              "        4.1046314e+00],\n",
              "       [6.2100000e+03, 1.3450529e+01, 0.0000000e+00, 0.0000000e+00,\n",
              "        4.1046314e+00],\n",
              "       [3.8200000e+03, 1.2840529e+01, 0.0000000e+00, 0.0000000e+00,\n",
              "        3.3962330e+00],\n",
              "       ...,\n",
              "       [2.6280000e+04, 1.1670529e+01, 0.0000000e+00, 0.0000000e+00,\n",
              "        3.5834015e+01],\n",
              "       [2.6905000e+04, 1.1420529e+01, 1.0000000e-01, 0.0000000e+00,\n",
              "        3.5647274e+01],\n",
              "       [2.5807000e+04, 1.0860529e+01, 1.0000000e-01, 0.0000000e+00,\n",
              "        3.5452232e+01]])"
            ]
          },
          "metadata": {
            "tags": []
          },
          "execution_count": 17
        }
      ]
    },
    {
      "cell_type": "code",
      "metadata": {
        "colab": {
          "base_uri": "https://localhost:8080/"
        },
        "id": "QbButhuobpxl",
        "outputId": "5b6c352d-ac2e-4da4-f2ac-7a633d4fed78"
      },
      "source": [
        "test # 나누어준 테스트"
      ],
      "execution_count": 18,
      "outputs": [
        {
          "output_type": "execute_result",
          "data": {
            "text/plain": [
              "array([[2.5976000e+04, 9.7205290e+00, 0.0000000e+00, 0.0000000e+00,\n",
              "        1.8089775e+01],\n",
              "       [2.2993000e+04, 8.2905290e+00, 0.0000000e+00, 0.0000000e+00,\n",
              "        1.5077082e+01],\n",
              "       [1.9390000e+04, 7.5705285e+00, 0.0000000e+00, 0.0000000e+00,\n",
              "        1.4241630e+01],\n",
              "       ...,\n",
              "       [2.3719000e+04, 1.6605287e+00, 0.0000000e+00, 0.0000000e+00,\n",
              "        1.9469976e+01],\n",
              "       [2.5721000e+04, 1.1805286e+00, 0.0000000e+00, 0.0000000e+00,\n",
              "        1.5379206e+01],\n",
              "       [2.6591000e+04, 5.3052866e-01, 0.0000000e+00, 0.0000000e+00,\n",
              "        1.6548256e+01]])"
            ]
          },
          "metadata": {
            "tags": []
          },
          "execution_count": 18
        }
      ]
    },
    {
      "cell_type": "code",
      "metadata": {
        "id": "RcTsu8Kgikdu"
      },
      "source": [
        ""
      ],
      "execution_count": 18,
      "outputs": []
    },
    {
      "cell_type": "code",
      "metadata": {
        "id": "BGBn9nMbvnrK"
      },
      "source": [
        "from sklearn.preprocessing import StandardScaler\n",
        "from sklearn import preprocessing\n",
        "\n",
        "train_scaler = preprocessing.StandardScaler().fit(train)\n",
        "test_scaler = preprocessing.StandardScaler().fit(test)"
      ],
      "execution_count": 35,
      "outputs": []
    },
    {
      "cell_type": "code",
      "metadata": {
        "id": "WRWW3mx3zQaR"
      },
      "source": [
        "y_train_scaler = preprocessing.StandardScaler().fit(y_train)\n",
        "y_test_scaler = preprocessing.StandardScaler().fit(y_test)"
      ],
      "execution_count": 36,
      "outputs": []
    },
    {
      "cell_type": "code",
      "metadata": {
        "colab": {
          "base_uri": "https://localhost:8080/"
        },
        "id": "qXw5nd0B6xEa",
        "outputId": "11f5ed07-0475-499c-87f0-7cdeb6b986e0"
      },
      "source": [
        "print(train_scaler)\n",
        "print(test_scaler)"
      ],
      "execution_count": 20,
      "outputs": [
        {
          "output_type": "stream",
          "text": [
            "StandardScaler(copy=True, with_mean=True, with_std=True)\n",
            "StandardScaler(copy=True, with_mean=True, with_std=True)\n"
          ],
          "name": "stdout"
        }
      ]
    },
    {
      "cell_type": "code",
      "metadata": {
        "colab": {
          "base_uri": "https://localhost:8080/"
        },
        "id": "GAEzF7RqwQuP",
        "outputId": "40237f2f-65aa-4444-a2f9-f0f467263755"
      },
      "source": [
        "train_scaler.transform(train) # 스케일러로 받은 트레인값"
      ],
      "execution_count": 21,
      "outputs": [
        {
          "output_type": "execute_result",
          "data": {
            "text/plain": [
              "array([[-0.65804515, -0.10507705, -0.1799925 , -0.02696799, -0.85104288],\n",
              "       [-1.33182169, -0.25213587, -0.1799925 , -0.02696799, -0.85104288],\n",
              "       [-1.67932405, -0.34964227, -0.1799925 , -0.02696799, -0.96832281],\n",
              "       ...,\n",
              "       [ 1.58632573, -0.53666273, -0.1799925 , -0.02696799,  4.40196148],\n",
              "       [ 1.67719978, -0.57662437,  0.08283348, -0.02696799,  4.37104531],\n",
              "       [ 1.51755225, -0.66613843,  0.08283348, -0.02696799,  4.33875484]])"
            ]
          },
          "metadata": {
            "tags": []
          },
          "execution_count": 21
        }
      ]
    },
    {
      "cell_type": "code",
      "metadata": {
        "colab": {
          "base_uri": "https://localhost:8080/"
        },
        "id": "on-5om4-1qkB",
        "outputId": "c541475a-faf8-4741-f3d8-7369f32f9caf"
      },
      "source": [
        "train_scaler.transform(test) # 스케일러로 받은 테스트 값"
      ],
      "execution_count": 22,
      "outputs": [
        {
          "output_type": "execute_result",
          "data": {
            "text/plain": [
              "array([[ 1.54212459, -0.8483635 , -0.1799925 , -0.02696799,  1.46428796],\n",
              "       [ 1.10840094, -1.07694407, -0.1799925 , -0.02696799,  0.96551718],\n",
              "       [ 0.58453023, -1.19203366, -0.1799925 , -0.02696799,  0.82720271],\n",
              "       ...,\n",
              "       [ 1.21396023, -2.13672674, -0.1799925 , -0.02696799,  1.69278915],\n",
              "       [ 1.50504798, -2.2134531 , -0.1799925 , -0.02696799,  1.01553576],\n",
              "       [ 1.63154466, -2.31735335, -0.1799925 , -0.02696799,  1.20907954]])"
            ]
          },
          "metadata": {
            "tags": []
          },
          "execution_count": 22
        }
      ]
    },
    {
      "cell_type": "code",
      "metadata": {
        "id": "Lw3NrnFYCasb"
      },
      "source": [
        "\n",
        "# scaler = StandardScaler()\n",
        "# scaler.fit(train)"
      ],
      "execution_count": 23,
      "outputs": []
    },
    {
      "cell_type": "code",
      "metadata": {
        "id": "jhW6JOX3w2yU"
      },
      "source": [
        "test_scaled = train_scaler.transform(test)\n",
        "train_scaled =train_scaler.transform(train)"
      ],
      "execution_count": 40,
      "outputs": []
    },
    {
      "cell_type": "code",
      "metadata": {
        "id": "sLssMcBeing4"
      },
      "source": [
        "# y_test_scaled = train_scaler.transform(y_test)\n",
        "# y_train_scaled =train_scaler.transform(y_train)"
      ],
      "execution_count": 41,
      "outputs": []
    },
    {
      "cell_type": "code",
      "metadata": {
        "colab": {
          "base_uri": "https://localhost:8080/"
        },
        "id": "UsH8AdiCzsIt",
        "outputId": "ee33ba9f-2937-4d4b-aed8-05d40b16ac3e"
      },
      "source": [
        "# y_train_scaled.shape"
      ],
      "execution_count": 43,
      "outputs": [
        {
          "output_type": "execute_result",
          "data": {
            "text/plain": [
              "(1032, 5)"
            ]
          },
          "metadata": {
            "tags": []
          },
          "execution_count": 43
        }
      ]
    },
    {
      "cell_type": "code",
      "metadata": {
        "colab": {
          "base_uri": "https://localhost:8080/"
        },
        "id": "OLeuh91qKzxY",
        "outputId": "d3319b2a-08ff-4e16-f581-451b03a9346a"
      },
      "source": [
        "\n",
        "train.shape"
      ],
      "execution_count": 25,
      "outputs": [
        {
          "output_type": "execute_result",
          "data": {
            "text/plain": [
              "(4128, 5)"
            ]
          },
          "metadata": {
            "tags": []
          },
          "execution_count": 25
        }
      ]
    },
    {
      "cell_type": "code",
      "metadata": {
        "colab": {
          "base_uri": "https://localhost:8080/"
        },
        "id": "RHrhmyc37VRf",
        "outputId": "a68f862c-150a-48e8-aabb-c70878236315"
      },
      "source": [
        "train_scaled.shape"
      ],
      "execution_count": 26,
      "outputs": [
        {
          "output_type": "execute_result",
          "data": {
            "text/plain": [
              "(4128, 5)"
            ]
          },
          "metadata": {
            "tags": []
          },
          "execution_count": 26
        }
      ]
    },
    {
      "cell_type": "code",
      "metadata": {
        "colab": {
          "base_uri": "https://localhost:8080/"
        },
        "id": "el3YwpGmK2q0",
        "outputId": "5fa0242e-7b57-48cf-fd85-cc44ee88de44"
      },
      "source": [
        "train.shape"
      ],
      "execution_count": 27,
      "outputs": [
        {
          "output_type": "execute_result",
          "data": {
            "text/plain": [
              "(4128, 5)"
            ]
          },
          "metadata": {
            "tags": []
          },
          "execution_count": 27
        }
      ]
    },
    {
      "cell_type": "code",
      "metadata": {
        "colab": {
          "base_uri": "https://localhost:8080/"
        },
        "id": "9sVlvZPf_k17",
        "outputId": "353298c6-63c4-4fb4-f8a3-c9681967875f"
      },
      "source": [
        "test_scaled.shape"
      ],
      "execution_count": 28,
      "outputs": [
        {
          "output_type": "execute_result",
          "data": {
            "text/plain": [
              "(1032, 5)"
            ]
          },
          "metadata": {
            "tags": []
          },
          "execution_count": 28
        }
      ]
    },
    {
      "cell_type": "code",
      "metadata": {
        "colab": {
          "base_uri": "https://localhost:8080/"
        },
        "id": "utcfdqAZ7N8Y",
        "outputId": "77940bfd-3b9a-45a8-eb56-a90b5888ce38"
      },
      "source": [
        "len(train_scaled)"
      ],
      "execution_count": null,
      "outputs": [
        {
          "output_type": "execute_result",
          "data": {
            "text/plain": [
              "4128"
            ]
          },
          "metadata": {
            "tags": []
          },
          "execution_count": 176
        }
      ]
    },
    {
      "cell_type": "code",
      "metadata": {
        "colab": {
          "base_uri": "https://localhost:8080/"
        },
        "id": "YR2ZxR8T_ye6",
        "outputId": "048ce74a-8fd6-4fc4-f02b-76c40279bf01"
      },
      "source": [
        "train_scaled.shape"
      ],
      "execution_count": null,
      "outputs": [
        {
          "output_type": "execute_result",
          "data": {
            "text/plain": [
              "(4128, 5)"
            ]
          },
          "metadata": {
            "tags": []
          },
          "execution_count": 177
        }
      ]
    },
    {
      "cell_type": "code",
      "metadata": {
        "colab": {
          "base_uri": "https://localhost:8080/"
        },
        "id": "BZoO2alp2iE4",
        "outputId": "b9f19d60-9742-460c-9e17-4a4c2805d4bc"
      },
      "source": [
        "train_scaled[:,0]"
      ],
      "execution_count": null,
      "outputs": [
        {
          "output_type": "execute_result",
          "data": {
            "text/plain": [
              "array([-0.65804515, -1.33182169, -1.67932405, ...,  1.58632573,\n",
              "        1.67719978,  1.51755225])"
            ]
          },
          "metadata": {
            "tags": []
          },
          "execution_count": 178
        }
      ]
    },
    {
      "cell_type": "code",
      "metadata": {
        "id": "czVjmKyXCQ1a"
      },
      "source": [
        ""
      ],
      "execution_count": null,
      "outputs": []
    },
    {
      "cell_type": "markdown",
      "metadata": {
        "id": "oh8bUUo7413H"
      },
      "source": [
        "### Make TimeseriesGenerator for x_train_scaled and y_train_scaled for the window=168 => x_train_window, y_train_window"
      ]
    },
    {
      "cell_type": "code",
      "metadata": {
        "id": "m9gOaGIc4NC0"
      },
      "source": [
        "batch_size = 32\n",
        "lengthwind = 338\n",
        "# 168 - > ARIMA (168 , 0 , 0)\n",
        "train_generator = TimeseriesGenerator(train_scaled[:,0], train_scaled[:,0], length= 168, sampling_rate=1, batch_size=32)\n",
        "test_generator = TimeseriesGenerator(test_scaled[:,0], test_scaled[:,0], length=168, sampling_rate=1, batch_size=32)"
      ],
      "execution_count": 70,
      "outputs": []
    },
    {
      "cell_type": "code",
      "metadata": {
        "id": "gaTYDC-s4NGD",
        "colab": {
          "base_uri": "https://localhost:8080/"
        },
        "outputId": "5ef448fe-794e-4d2a-f0a2-43de785550ea"
      },
      "source": [
        "# train_generator[1]\n",
        "# test_generator[0]\n",
        "train_generator"
      ],
      "execution_count": 71,
      "outputs": [
        {
          "output_type": "execute_result",
          "data": {
            "text/plain": [
              "<tensorflow.python.keras.preprocessing.sequence.TimeseriesGenerator at 0x7f87bd966438>"
            ]
          },
          "metadata": {
            "tags": []
          },
          "execution_count": 71
        }
      ]
    },
    {
      "cell_type": "code",
      "metadata": {
        "id": "4QOrSsCL3o7D",
        "colab": {
          "base_uri": "https://localhost:8080/"
        },
        "outputId": "78089949-12bb-41b6-dd56-95b8d043d032"
      },
      "source": [
        "model = Sequential()\n",
        "model.add(Dense(1))\n",
        "model.compile(optimizer='adam', loss='mse')\n",
        "history = model.fit_generator(train_generator, epochs=100).history"
      ],
      "execution_count": 69,
      "outputs": [
        {
          "output_type": "stream",
          "text": [
            "Epoch 1/100\n",
            "119/119 [==============================] - 0s 1ms/step - loss: 0.7529\n",
            "Epoch 2/100\n",
            "119/119 [==============================] - 0s 1ms/step - loss: 0.2358\n",
            "Epoch 3/100\n",
            "119/119 [==============================] - 0s 1ms/step - loss: 0.1276\n",
            "Epoch 4/100\n",
            "119/119 [==============================] - 0s 1ms/step - loss: 0.0936\n",
            "Epoch 5/100\n",
            "119/119 [==============================] - 0s 1ms/step - loss: 0.0782\n",
            "Epoch 6/100\n",
            "119/119 [==============================] - 0s 1ms/step - loss: 0.0675\n",
            "Epoch 7/100\n",
            "119/119 [==============================] - 0s 1ms/step - loss: 0.0630\n",
            "Epoch 8/100\n",
            "119/119 [==============================] - 0s 1ms/step - loss: 0.0555\n",
            "Epoch 9/100\n",
            "119/119 [==============================] - 0s 1ms/step - loss: 0.0526\n",
            "Epoch 10/100\n",
            "119/119 [==============================] - 0s 1ms/step - loss: 0.0506\n",
            "Epoch 11/100\n",
            "119/119 [==============================] - 0s 1ms/step - loss: 0.0470\n",
            "Epoch 12/100\n",
            "119/119 [==============================] - 0s 1ms/step - loss: 0.0434\n",
            "Epoch 13/100\n",
            "119/119 [==============================] - 0s 1ms/step - loss: 0.0422\n",
            "Epoch 14/100\n",
            "119/119 [==============================] - 0s 1ms/step - loss: 0.0410\n",
            "Epoch 15/100\n",
            "119/119 [==============================] - 0s 1ms/step - loss: 0.0398\n",
            "Epoch 16/100\n",
            "119/119 [==============================] - 0s 1ms/step - loss: 0.0387\n",
            "Epoch 17/100\n",
            "119/119 [==============================] - 0s 1ms/step - loss: 0.0388\n",
            "Epoch 18/100\n",
            "119/119 [==============================] - 0s 1ms/step - loss: 0.0363\n",
            "Epoch 19/100\n",
            "119/119 [==============================] - 0s 1ms/step - loss: 0.0344\n",
            "Epoch 20/100\n",
            "119/119 [==============================] - 0s 1ms/step - loss: 0.0346\n",
            "Epoch 21/100\n",
            "119/119 [==============================] - 0s 1ms/step - loss: 0.0345\n",
            "Epoch 22/100\n",
            "119/119 [==============================] - 0s 1ms/step - loss: 0.0324\n",
            "Epoch 23/100\n",
            "119/119 [==============================] - 0s 1ms/step - loss: 0.0324\n",
            "Epoch 24/100\n",
            "119/119 [==============================] - 0s 1ms/step - loss: 0.0309\n",
            "Epoch 25/100\n",
            "119/119 [==============================] - 0s 1ms/step - loss: 0.0305\n",
            "Epoch 26/100\n",
            "119/119 [==============================] - 0s 1ms/step - loss: 0.0299\n",
            "Epoch 27/100\n",
            "119/119 [==============================] - 0s 1ms/step - loss: 0.0283\n",
            "Epoch 28/100\n",
            "119/119 [==============================] - 0s 1ms/step - loss: 0.0290\n",
            "Epoch 29/100\n",
            "119/119 [==============================] - 0s 1ms/step - loss: 0.0281\n",
            "Epoch 30/100\n",
            "119/119 [==============================] - 0s 2ms/step - loss: 0.0278\n",
            "Epoch 31/100\n",
            "119/119 [==============================] - 0s 1ms/step - loss: 0.0277\n",
            "Epoch 32/100\n",
            "119/119 [==============================] - 0s 1ms/step - loss: 0.0276\n",
            "Epoch 33/100\n",
            "119/119 [==============================] - 0s 1ms/step - loss: 0.0266\n",
            "Epoch 34/100\n",
            "119/119 [==============================] - 0s 1ms/step - loss: 0.0271\n",
            "Epoch 35/100\n",
            "119/119 [==============================] - 0s 1ms/step - loss: 0.0256\n",
            "Epoch 36/100\n",
            "119/119 [==============================] - 0s 1ms/step - loss: 0.0253\n",
            "Epoch 37/100\n",
            "119/119 [==============================] - 0s 1ms/step - loss: 0.0274\n",
            "Epoch 38/100\n",
            "119/119 [==============================] - 0s 1ms/step - loss: 0.0274\n",
            "Epoch 39/100\n",
            "119/119 [==============================] - 0s 1ms/step - loss: 0.0254\n",
            "Epoch 40/100\n",
            "119/119 [==============================] - 0s 1ms/step - loss: 0.0249\n",
            "Epoch 41/100\n",
            "119/119 [==============================] - 0s 2ms/step - loss: 0.0247\n",
            "Epoch 42/100\n",
            "119/119 [==============================] - 0s 1ms/step - loss: 0.0237\n",
            "Epoch 43/100\n",
            "119/119 [==============================] - 0s 1ms/step - loss: 0.0237\n",
            "Epoch 44/100\n",
            "119/119 [==============================] - 0s 1ms/step - loss: 0.0239\n",
            "Epoch 45/100\n",
            "119/119 [==============================] - 0s 1ms/step - loss: 0.0237\n",
            "Epoch 46/100\n",
            "119/119 [==============================] - 0s 1ms/step - loss: 0.0233\n",
            "Epoch 47/100\n",
            "119/119 [==============================] - 0s 1ms/step - loss: 0.0252\n",
            "Epoch 48/100\n",
            "119/119 [==============================] - 0s 1ms/step - loss: 0.0242\n",
            "Epoch 49/100\n",
            "119/119 [==============================] - 0s 1ms/step - loss: 0.0233\n",
            "Epoch 50/100\n",
            "119/119 [==============================] - 0s 1ms/step - loss: 0.0236\n",
            "Epoch 51/100\n",
            "119/119 [==============================] - 0s 1ms/step - loss: 0.0234\n",
            "Epoch 52/100\n",
            "119/119 [==============================] - 0s 1ms/step - loss: 0.0232\n",
            "Epoch 53/100\n",
            "119/119 [==============================] - 0s 1ms/step - loss: 0.0234\n",
            "Epoch 54/100\n",
            "119/119 [==============================] - 0s 1ms/step - loss: 0.0229\n",
            "Epoch 55/100\n",
            "119/119 [==============================] - 0s 1ms/step - loss: 0.0231\n",
            "Epoch 56/100\n",
            "119/119 [==============================] - 0s 1ms/step - loss: 0.0236\n",
            "Epoch 57/100\n",
            "119/119 [==============================] - 0s 1ms/step - loss: 0.0239\n",
            "Epoch 58/100\n",
            "119/119 [==============================] - 0s 1ms/step - loss: 0.0261\n",
            "Epoch 59/100\n",
            "119/119 [==============================] - 0s 1ms/step - loss: 0.0239\n",
            "Epoch 60/100\n",
            "119/119 [==============================] - 0s 1ms/step - loss: 0.0221\n",
            "Epoch 61/100\n",
            "119/119 [==============================] - 0s 1ms/step - loss: 0.0218\n",
            "Epoch 62/100\n",
            "119/119 [==============================] - 0s 1ms/step - loss: 0.0213\n",
            "Epoch 63/100\n",
            "119/119 [==============================] - 0s 1ms/step - loss: 0.0212\n",
            "Epoch 64/100\n",
            "119/119 [==============================] - 0s 1ms/step - loss: 0.0226\n",
            "Epoch 65/100\n",
            "119/119 [==============================] - 0s 1ms/step - loss: 0.0225\n",
            "Epoch 66/100\n",
            "119/119 [==============================] - 0s 1ms/step - loss: 0.0222\n",
            "Epoch 67/100\n",
            "119/119 [==============================] - 0s 2ms/step - loss: 0.0227\n",
            "Epoch 68/100\n",
            "119/119 [==============================] - 0s 1ms/step - loss: 0.0219\n",
            "Epoch 69/100\n",
            "119/119 [==============================] - 0s 1ms/step - loss: 0.0217\n",
            "Epoch 70/100\n",
            "119/119 [==============================] - 0s 1ms/step - loss: 0.0223\n",
            "Epoch 71/100\n",
            "119/119 [==============================] - 0s 1ms/step - loss: 0.0228\n",
            "Epoch 72/100\n",
            "119/119 [==============================] - 0s 1ms/step - loss: 0.0209\n",
            "Epoch 73/100\n",
            "119/119 [==============================] - 0s 1ms/step - loss: 0.0232\n",
            "Epoch 74/100\n",
            "119/119 [==============================] - 0s 1ms/step - loss: 0.0221\n",
            "Epoch 75/100\n",
            "119/119 [==============================] - 0s 1ms/step - loss: 0.0216\n",
            "Epoch 76/100\n",
            "119/119 [==============================] - 0s 1ms/step - loss: 0.0241\n",
            "Epoch 77/100\n",
            "119/119 [==============================] - 0s 1ms/step - loss: 0.0213\n",
            "Epoch 78/100\n",
            "119/119 [==============================] - 0s 1ms/step - loss: 0.0227\n",
            "Epoch 79/100\n",
            "119/119 [==============================] - 0s 1ms/step - loss: 0.0216\n",
            "Epoch 80/100\n",
            "119/119 [==============================] - 0s 1ms/step - loss: 0.0214\n",
            "Epoch 81/100\n",
            "119/119 [==============================] - 0s 1ms/step - loss: 0.0216\n",
            "Epoch 82/100\n",
            "119/119 [==============================] - 0s 1ms/step - loss: 0.0209\n",
            "Epoch 83/100\n",
            "119/119 [==============================] - 0s 1ms/step - loss: 0.0219\n",
            "Epoch 84/100\n",
            "119/119 [==============================] - 0s 1ms/step - loss: 0.0211\n",
            "Epoch 85/100\n",
            "119/119 [==============================] - 0s 1ms/step - loss: 0.0211\n",
            "Epoch 86/100\n",
            "119/119 [==============================] - 0s 1ms/step - loss: 0.0200\n",
            "Epoch 87/100\n",
            "119/119 [==============================] - 0s 1ms/step - loss: 0.0223\n",
            "Epoch 88/100\n",
            "119/119 [==============================] - 0s 1ms/step - loss: 0.0207\n",
            "Epoch 89/100\n",
            "119/119 [==============================] - 0s 1ms/step - loss: 0.0207\n",
            "Epoch 90/100\n",
            "119/119 [==============================] - 0s 1ms/step - loss: 0.0219\n",
            "Epoch 91/100\n",
            "119/119 [==============================] - 0s 1ms/step - loss: 0.0211\n",
            "Epoch 92/100\n",
            "119/119 [==============================] - 0s 1ms/step - loss: 0.0202\n",
            "Epoch 93/100\n",
            "119/119 [==============================] - 0s 1ms/step - loss: 0.0207\n",
            "Epoch 94/100\n",
            "119/119 [==============================] - 0s 1ms/step - loss: 0.0204\n",
            "Epoch 95/100\n",
            "119/119 [==============================] - 0s 1ms/step - loss: 0.0218\n",
            "Epoch 96/100\n",
            "119/119 [==============================] - 0s 1ms/step - loss: 0.0210\n",
            "Epoch 97/100\n",
            "119/119 [==============================] - 0s 1ms/step - loss: 0.0206\n",
            "Epoch 98/100\n",
            "119/119 [==============================] - 0s 1ms/step - loss: 0.0210\n",
            "Epoch 99/100\n",
            "119/119 [==============================] - 0s 2ms/step - loss: 0.0220\n",
            "Epoch 100/100\n",
            "119/119 [==============================] - 0s 1ms/step - loss: 0.0210\n"
          ],
          "name": "stdout"
        }
      ]
    },
    {
      "cell_type": "code",
      "metadata": {
        "colab": {
          "base_uri": "https://localhost:8080/"
        },
        "id": "EJZizSJf4Od7",
        "outputId": "7b71d69e-4270-4afe-d8d0-e4b474f1ff5b"
      },
      "source": [
        "model.evaluate_generator(test_generator)\n",
        "trainPredict = model.predict_generator(train_generator)\n",
        "testPredict = model.predict_generator(test_generator)"
      ],
      "execution_count": 60,
      "outputs": [
        {
          "output_type": "stream",
          "text": [
            "WARNING:tensorflow:From <ipython-input-60-0e0e89231a42>:1: Model.evaluate_generator (from tensorflow.python.keras.engine.training) is deprecated and will be removed in a future version.\n",
            "Instructions for updating:\n",
            "Please use Model.evaluate, which supports generators.\n",
            "WARNING:tensorflow:From <ipython-input-60-0e0e89231a42>:2: Model.predict_generator (from tensorflow.python.keras.engine.training) is deprecated and will be removed in a future version.\n",
            "Instructions for updating:\n",
            "Please use Model.predict, which supports generators.\n"
          ],
          "name": "stdout"
        }
      ]
    },
    {
      "cell_type": "code",
      "metadata": {
        "colab": {
          "base_uri": "https://localhost:8080/"
        },
        "id": "uum1PKbK0Lwy",
        "outputId": "bf2c3233-18ee-4224-efb5-e495cfab5172"
      },
      "source": [
        "trainPredict.shape[0]"
      ],
      "execution_count": 64,
      "outputs": [
        {
          "output_type": "execute_result",
          "data": {
            "text/plain": [
              "3790"
            ]
          },
          "metadata": {
            "tags": []
          },
          "execution_count": 64
        }
      ]
    },
    {
      "cell_type": "code",
      "metadata": {
        "colab": {
          "base_uri": "https://localhost:8080/"
        },
        "id": "kuvKm4_64i2R",
        "outputId": "58b6101f-686e-482a-a03a-65f3fbb0f1a6"
      },
      "source": [
        "testPredict.shape[0]"
      ],
      "execution_count": 65,
      "outputs": [
        {
          "output_type": "execute_result",
          "data": {
            "text/plain": [
              "694"
            ]
          },
          "metadata": {
            "tags": []
          },
          "execution_count": 65
        }
      ]
    },
    {
      "cell_type": "code",
      "metadata": {
        "id": "UMnQf-ow51Zm"
      },
      "source": [
        "df_final = data_input[testPredict.shape[0]*-1:]  #80%"
      ],
      "execution_count": 67,
      "outputs": []
    },
    {
      "cell_type": "code",
      "metadata": {
        "colab": {
          "base_uri": "https://localhost:8080/"
        },
        "id": "-7YfjtOL5_b3",
        "outputId": "e633be5e-2964-42bb-9eef-4d952df452df"
      },
      "source": [
        "df_final.count()"
      ],
      "execution_count": 68,
      "outputs": [
        {
          "output_type": "execute_result",
          "data": {
            "text/plain": [
              "value            694\n",
              "temp             694\n",
              "precipitation    694\n",
              "snowfall         694\n",
              "windspeed        694\n",
              "dtype: int64"
            ]
          },
          "metadata": {
            "tags": []
          },
          "execution_count": 68
        }
      ]
    },
    {
      "cell_type": "code",
      "metadata": {
        "id": "Fl3KO9OUgpyu"
      },
      "source": [
        ""
      ],
      "execution_count": null,
      "outputs": []
    },
    {
      "cell_type": "code",
      "metadata": {
        "colab": {
          "base_uri": "https://localhost:8080/"
        },
        "id": "0Q0LvJRay6pr",
        "outputId": "db676f72-8071-449c-d7be-1a92464b2f1b"
      },
      "source": [
        "train_scaled"
      ],
      "execution_count": null,
      "outputs": [
        {
          "output_type": "execute_result",
          "data": {
            "text/plain": [
              "array([[-0.65804515, -0.10507705, -0.1799925 , -0.02696799, -0.85104288],\n",
              "       [-1.33182169, -0.25213587, -0.1799925 , -0.02696799, -0.85104288],\n",
              "       [-1.67932405, -0.34964227, -0.1799925 , -0.02696799, -0.96832281],\n",
              "       ...,\n",
              "       [ 1.58632573, -0.53666273, -0.1799925 , -0.02696799,  4.40196148],\n",
              "       [ 1.67719978, -0.57662437,  0.08283348, -0.02696799,  4.37104531],\n",
              "       [ 1.51755225, -0.66613843,  0.08283348, -0.02696799,  4.33875484]])"
            ]
          },
          "metadata": {
            "tags": []
          },
          "execution_count": 186
        }
      ]
    },
    {
      "cell_type": "code",
      "metadata": {
        "id": "Ob4syxNcYbhd"
      },
      "source": [
        "# for i in range(len(test_generator)):\n",
        "# \tx, y = test_generator[i]\n",
        "# \tprint('%s => %s' % (x, y))"
      ],
      "execution_count": null,
      "outputs": []
    },
    {
      "cell_type": "code",
      "metadata": {
        "id": "hgmrN4LxCJUo",
        "colab": {
          "base_uri": "https://localhost:8080/",
          "height": 245
        },
        "outputId": "ff1c6c50-35ae-48e0-9672-a0849299d628"
      },
      "source": [
        "model = tf.keras.Sequential()\n",
        "model.add(Dense(168, activation='relu', input_dim=lengthwind))\n",
        "model.add(Dense(336, activation='relu', input_dim=lengthwind,))\n",
        "model.add(Dense(64))\n",
        "model.add(Dense(1))\n",
        "model.compile(optimizer='adam', loss='mse')\n"
      ],
      "execution_count": 50,
      "outputs": [
        {
          "output_type": "error",
          "ename": "NameError",
          "evalue": "ignored",
          "traceback": [
            "\u001b[0;31m---------------------------------------------------------------------------\u001b[0m",
            "\u001b[0;31mNameError\u001b[0m                                 Traceback (most recent call last)",
            "\u001b[0;32m<ipython-input-50-53aeac756605>\u001b[0m in \u001b[0;36m<module>\u001b[0;34m()\u001b[0m\n\u001b[1;32m      1\u001b[0m \u001b[0mmodel\u001b[0m \u001b[0;34m=\u001b[0m \u001b[0mtf\u001b[0m\u001b[0;34m.\u001b[0m\u001b[0mkeras\u001b[0m\u001b[0;34m.\u001b[0m\u001b[0mSequential\u001b[0m\u001b[0;34m(\u001b[0m\u001b[0;34m)\u001b[0m\u001b[0;34m\u001b[0m\u001b[0;34m\u001b[0m\u001b[0m\n\u001b[0;32m----> 2\u001b[0;31m \u001b[0mmodel\u001b[0m\u001b[0;34m.\u001b[0m\u001b[0madd\u001b[0m\u001b[0;34m(\u001b[0m\u001b[0mDense\u001b[0m\u001b[0;34m(\u001b[0m\u001b[0;36m168\u001b[0m\u001b[0;34m,\u001b[0m \u001b[0mactivation\u001b[0m\u001b[0;34m=\u001b[0m\u001b[0;34m'relu'\u001b[0m\u001b[0;34m,\u001b[0m \u001b[0minput_dim\u001b[0m\u001b[0;34m=\u001b[0m\u001b[0mlengthwind\u001b[0m\u001b[0;34m)\u001b[0m\u001b[0;34m)\u001b[0m\u001b[0;34m\u001b[0m\u001b[0;34m\u001b[0m\u001b[0m\n\u001b[0m\u001b[1;32m      3\u001b[0m \u001b[0mmodel\u001b[0m\u001b[0;34m.\u001b[0m\u001b[0madd\u001b[0m\u001b[0;34m(\u001b[0m\u001b[0mDense\u001b[0m\u001b[0;34m(\u001b[0m\u001b[0;36m336\u001b[0m\u001b[0;34m,\u001b[0m \u001b[0mactivation\u001b[0m\u001b[0;34m=\u001b[0m\u001b[0;34m'relu'\u001b[0m\u001b[0;34m,\u001b[0m \u001b[0minput_dim\u001b[0m\u001b[0;34m=\u001b[0m\u001b[0mlengthwind\u001b[0m\u001b[0;34m,\u001b[0m\u001b[0;34m)\u001b[0m\u001b[0;34m)\u001b[0m\u001b[0;34m\u001b[0m\u001b[0;34m\u001b[0m\u001b[0m\n\u001b[1;32m      4\u001b[0m \u001b[0mmodel\u001b[0m\u001b[0;34m.\u001b[0m\u001b[0madd\u001b[0m\u001b[0;34m(\u001b[0m\u001b[0mDense\u001b[0m\u001b[0;34m(\u001b[0m\u001b[0;36m64\u001b[0m\u001b[0;34m)\u001b[0m\u001b[0;34m)\u001b[0m\u001b[0;34m\u001b[0m\u001b[0;34m\u001b[0m\u001b[0m\n\u001b[1;32m      5\u001b[0m \u001b[0mmodel\u001b[0m\u001b[0;34m.\u001b[0m\u001b[0madd\u001b[0m\u001b[0;34m(\u001b[0m\u001b[0mDense\u001b[0m\u001b[0;34m(\u001b[0m\u001b[0;36m1\u001b[0m\u001b[0;34m)\u001b[0m\u001b[0;34m)\u001b[0m\u001b[0;34m\u001b[0m\u001b[0;34m\u001b[0m\u001b[0m\n",
            "\u001b[0;31mNameError\u001b[0m: name 'lengthwind' is not defined"
          ]
        }
      ]
    },
    {
      "cell_type": "code",
      "metadata": {
        "id": "H7FFc4IZ0YDU"
      },
      "source": [
        ""
      ],
      "execution_count": null,
      "outputs": []
    },
    {
      "cell_type": "code",
      "metadata": {
        "id": "sIUlMHrIeb4j",
        "colab": {
          "base_uri": "https://localhost:8080/"
        },
        "outputId": "64c40090-17e7-47dc-e7b8-8aaf28b69ca0"
      },
      "source": [
        "# fit model\n",
        "model.fit_generator(test_generator, steps_per_epoch=200, verbose=0)"
      ],
      "execution_count": null,
      "outputs": [
        {
          "output_type": "stream",
          "text": [
            "WARNING:tensorflow:Your input ran out of data; interrupting training. Make sure that your dataset or generator can generate at least `steps_per_epoch * epochs` batches (in this case, 200 batches). You may need to use the repeat() function when building your dataset.\n"
          ],
          "name": "stdout"
        },
        {
          "output_type": "execute_result",
          "data": {
            "text/plain": [
              "<tensorflow.python.keras.callbacks.History at 0x7f193d4d16d8>"
            ]
          },
          "metadata": {
            "tags": []
          },
          "execution_count": 189
        }
      ]
    },
    {
      "cell_type": "code",
      "metadata": {
        "id": "hOBs1y3agdE2"
      },
      "source": [
        "# reshape to [10, 1]\n",
        "# n_features = 1\n",
        "# series = series.reshape((len(test_generator), n_features))"
      ],
      "execution_count": null,
      "outputs": []
    },
    {
      "cell_type": "code",
      "metadata": {
        "id": "BIg_xETkksJM"
      },
      "source": [
        "lm = LinearRegression(fit_intercept=True, normalize=True, n_jobs=None)"
      ],
      "execution_count": 44,
      "outputs": []
    },
    {
      "cell_type": "code",
      "metadata": {
        "colab": {
          "base_uri": "https://localhost:8080/"
        },
        "id": "zhBJ3RSn0JTH",
        "outputId": "13bef144-080b-4898-a387-e25542b98208"
      },
      "source": [
        "lm.fit(train_scaled,train_scaled)"
      ],
      "execution_count": 45,
      "outputs": [
        {
          "output_type": "execute_result",
          "data": {
            "text/plain": [
              "LinearRegression(copy_X=True, fit_intercept=True, n_jobs=None, normalize=True)"
            ]
          },
          "metadata": {
            "tags": []
          },
          "execution_count": 45
        }
      ]
    },
    {
      "cell_type": "code",
      "metadata": {
        "colab": {
          "base_uri": "https://localhost:8080/"
        },
        "id": "QHOXS1YH0Ons",
        "outputId": "210d7d80-4ef8-4413-be91-ad45727b8cbd"
      },
      "source": [
        "accuracy = lm.score(train_scaled, train_scaled)"
      ],
      "execution_count": 47,
      "outputs": [
        {
          "output_type": "stream",
          "text": [
            "/usr/local/lib/python3.6/dist-packages/sklearn/base.py:434: FutureWarning:\n",
            "\n",
            "The default value of multioutput (not exposed in score method) will change from 'variance_weighted' to 'uniform_average' in 0.23 to keep consistent with 'metrics.r2_score'. To specify the default value manually and avoid the warning, please either call 'metrics.r2_score' directly or make a custom scorer with 'metrics.make_scorer' (the built-in scorer 'r2' uses multioutput='uniform_average').\n",
            "\n"
          ],
          "name": "stderr"
        }
      ]
    },
    {
      "cell_type": "code",
      "metadata": {
        "colab": {
          "base_uri": "https://localhost:8080/"
        },
        "id": "pob0tB9z0Uak",
        "outputId": "2957b975-88eb-4c21-b7c7-7b56630c2f60"
      },
      "source": [
        "print( \"Linear Regression test file accuracy:\"+str(accuracy))"
      ],
      "execution_count": 48,
      "outputs": [
        {
          "output_type": "stream",
          "text": [
            "Linear Regression test file accuracy:1.0\n"
          ],
          "name": "stdout"
        }
      ]
    },
    {
      "cell_type": "code",
      "metadata": {
        "colab": {
          "base_uri": "https://localhost:8080/"
        },
        "id": "iC3v-Dhk0U5m",
        "outputId": "0b73ffa2-2945-4868-a09b-1a094229ecb3"
      },
      "source": [
        "lm.coef_"
      ],
      "execution_count": 49,
      "outputs": [
        {
          "output_type": "execute_result",
          "data": {
            "text/plain": [
              "array([[ 1.00000000e+00, -1.18819220e-16,  1.83546301e-16,\n",
              "        -1.83907472e-16, -4.43777465e-17],\n",
              "       [ 1.92424996e-16,  1.00000000e+00,  0.00000000e+00,\n",
              "         0.00000000e+00, -2.21182293e-16],\n",
              "       [ 2.46256030e-16, -6.91194664e-17,  1.00000000e+00,\n",
              "        -8.20793664e-17, -1.90078533e-17],\n",
              "       [-8.56434216e-17,  2.76477866e-17,  1.58110779e-16,\n",
              "         1.00000000e+00, -1.24415040e-16],\n",
              "       [ 1.61261424e-17, -1.10591146e-16, -3.55965252e-16,\n",
              "        -3.45597332e-17,  1.00000000e+00]])"
            ]
          },
          "metadata": {
            "tags": []
          },
          "execution_count": 49
        }
      ]
    },
    {
      "cell_type": "code",
      "metadata": {
        "id": "j83igzGj0W5q"
      },
      "source": [
        ""
      ],
      "execution_count": 49,
      "outputs": []
    },
    {
      "cell_type": "code",
      "metadata": {
        "id": "a7Y1Ioa-0W9P"
      },
      "source": [
        ""
      ],
      "execution_count": null,
      "outputs": []
    },
    {
      "cell_type": "code",
      "metadata": {
        "colab": {
          "base_uri": "https://localhost:8080/"
        },
        "id": "PcjF0wkobplm",
        "outputId": "3fd79ed6-e252-4aa9-be5b-56beb0869448"
      },
      "source": [
        "model.summary()"
      ],
      "execution_count": null,
      "outputs": [
        {
          "output_type": "stream",
          "text": [
            "Model: \"sequential_2\"\n",
            "_________________________________________________________________\n",
            "Layer (type)                 Output Shape              Param #   \n",
            "=================================================================\n",
            "dense_8 (Dense)              (None, 168)               56952     \n",
            "_________________________________________________________________\n",
            "dense_9 (Dense)              (None, 336)               56784     \n",
            "_________________________________________________________________\n",
            "dense_10 (Dense)             (None, 64)                21568     \n",
            "_________________________________________________________________\n",
            "dense_11 (Dense)             (None, 1)                 65        \n",
            "=================================================================\n",
            "Total params: 135,369\n",
            "Trainable params: 135,369\n",
            "Non-trainable params: 0\n",
            "_________________________________________________________________\n"
          ],
          "name": "stdout"
        }
      ]
    },
    {
      "cell_type": "code",
      "metadata": {
        "colab": {
          "base_uri": "https://localhost:8080/"
        },
        "id": "5pjsJgmBKqCe",
        "outputId": "18d7e114-dd05-4e4f-c37e-5b479fb4bf81"
      },
      "source": [
        "model.fit_generator(generator=test_generator,steps_per_epoch=len(test_generator))\n",
        "print('samples: %d' % len(test_generator))\n",
        "print('samples: %d' % len(train_generator))\n"
      ],
      "execution_count": null,
      "outputs": [
        {
          "output_type": "stream",
          "text": [
            "22/22 [==============================] - 0s 3ms/step - loss: 0.6726\n",
            "samples: 22\n",
            "samples: 119\n"
          ],
          "name": "stdout"
        }
      ]
    },
    {
      "cell_type": "code",
      "metadata": {
        "colab": {
          "base_uri": "https://localhost:8080/",
          "height": 359
        },
        "id": "4m8rSEorS0k3",
        "outputId": "b5edce05-782c-405a-8a91-ac66fa30e3da"
      },
      "source": [
        "early_stopping = tf.keras.callbacks.EarlyStopping(monitor='val_loss', patience=1, mode='min')\n",
        "\n",
        "model.compile(loss=tf.losses.MeanSquaredError(),  optimizer=tf.optimizers.Adam(),   metrics=[tf.metrics.MeanAbsolutePercentageError()])\n",
        "\n",
        "history = model.fit_generator(train_generator, epochs=200, validation_data=test_generator,  shuffle=False, callbacks=[early_stopping])"
      ],
      "execution_count": null,
      "outputs": [
        {
          "output_type": "error",
          "ename": "ValueError",
          "evalue": "ignored",
          "traceback": [
            "\u001b[0;31m---------------------------------------------------------------------------\u001b[0m",
            "\u001b[0;31mValueError\u001b[0m                                Traceback (most recent call last)",
            "\u001b[0;32m<ipython-input-193-6462ee72147f>\u001b[0m in \u001b[0;36m<module>\u001b[0;34m()\u001b[0m\n\u001b[1;32m      3\u001b[0m \u001b[0mmodel\u001b[0m\u001b[0;34m.\u001b[0m\u001b[0mcompile\u001b[0m\u001b[0;34m(\u001b[0m\u001b[0mloss\u001b[0m\u001b[0;34m=\u001b[0m\u001b[0mtf\u001b[0m\u001b[0;34m.\u001b[0m\u001b[0mlosses\u001b[0m\u001b[0;34m.\u001b[0m\u001b[0mMeanSquaredError\u001b[0m\u001b[0;34m(\u001b[0m\u001b[0;34m)\u001b[0m\u001b[0;34m,\u001b[0m  \u001b[0moptimizer\u001b[0m\u001b[0;34m=\u001b[0m\u001b[0mtf\u001b[0m\u001b[0;34m.\u001b[0m\u001b[0moptimizers\u001b[0m\u001b[0;34m.\u001b[0m\u001b[0mAdam\u001b[0m\u001b[0;34m(\u001b[0m\u001b[0;34m)\u001b[0m\u001b[0;34m,\u001b[0m   \u001b[0mmetrics\u001b[0m\u001b[0;34m=\u001b[0m\u001b[0;34m[\u001b[0m\u001b[0mtf\u001b[0m\u001b[0;34m.\u001b[0m\u001b[0mmetrics\u001b[0m\u001b[0;34m.\u001b[0m\u001b[0mMeanAbsolutePercentageError\u001b[0m\u001b[0;34m(\u001b[0m\u001b[0;34m)\u001b[0m\u001b[0;34m]\u001b[0m\u001b[0;34m)\u001b[0m\u001b[0;34m\u001b[0m\u001b[0;34m\u001b[0m\u001b[0m\n\u001b[1;32m      4\u001b[0m \u001b[0;34m\u001b[0m\u001b[0m\n\u001b[0;32m----> 5\u001b[0;31m \u001b[0mhistory\u001b[0m \u001b[0;34m=\u001b[0m \u001b[0mmodel\u001b[0m\u001b[0;34m.\u001b[0m\u001b[0mfit_generator\u001b[0m\u001b[0;34m(\u001b[0m\u001b[0mtrain_generator\u001b[0m\u001b[0;34m,\u001b[0m \u001b[0mepochs\u001b[0m\u001b[0;34m=\u001b[0m\u001b[0;36m200\u001b[0m\u001b[0;34m,\u001b[0m \u001b[0mvalidation_data\u001b[0m\u001b[0;34m=\u001b[0m\u001b[0mtest_generator\u001b[0m\u001b[0;34m,\u001b[0m  \u001b[0mshuffle\u001b[0m\u001b[0;34m=\u001b[0m\u001b[0;32mFalse\u001b[0m\u001b[0;34m,\u001b[0m \u001b[0mcallbacks\u001b[0m\u001b[0;34m=\u001b[0m\u001b[0;34m[\u001b[0m\u001b[0mearly_stopping\u001b[0m\u001b[0;34m]\u001b[0m\u001b[0;34m)\u001b[0m\u001b[0;34m\u001b[0m\u001b[0;34m\u001b[0m\u001b[0m\n\u001b[0m",
            "\u001b[0;32m/usr/local/lib/python3.6/dist-packages/tensorflow/python/util/deprecation.py\u001b[0m in \u001b[0;36mnew_func\u001b[0;34m(*args, **kwargs)\u001b[0m\n\u001b[1;32m    322\u001b[0m               \u001b[0;34m'in a future version'\u001b[0m \u001b[0;32mif\u001b[0m \u001b[0mdate\u001b[0m \u001b[0;32mis\u001b[0m \u001b[0;32mNone\u001b[0m \u001b[0;32melse\u001b[0m \u001b[0;34m(\u001b[0m\u001b[0;34m'after %s'\u001b[0m \u001b[0;34m%\u001b[0m \u001b[0mdate\u001b[0m\u001b[0;34m)\u001b[0m\u001b[0;34m,\u001b[0m\u001b[0;34m\u001b[0m\u001b[0;34m\u001b[0m\u001b[0m\n\u001b[1;32m    323\u001b[0m               instructions)\n\u001b[0;32m--> 324\u001b[0;31m       \u001b[0;32mreturn\u001b[0m \u001b[0mfunc\u001b[0m\u001b[0;34m(\u001b[0m\u001b[0;34m*\u001b[0m\u001b[0margs\u001b[0m\u001b[0;34m,\u001b[0m \u001b[0;34m**\u001b[0m\u001b[0mkwargs\u001b[0m\u001b[0;34m)\u001b[0m\u001b[0;34m\u001b[0m\u001b[0;34m\u001b[0m\u001b[0m\n\u001b[0m\u001b[1;32m    325\u001b[0m     return tf_decorator.make_decorator(\n\u001b[1;32m    326\u001b[0m         \u001b[0mfunc\u001b[0m\u001b[0;34m,\u001b[0m \u001b[0mnew_func\u001b[0m\u001b[0;34m,\u001b[0m \u001b[0;34m'deprecated'\u001b[0m\u001b[0;34m,\u001b[0m\u001b[0;34m\u001b[0m\u001b[0;34m\u001b[0m\u001b[0m\n",
            "\u001b[0;32m/usr/local/lib/python3.6/dist-packages/tensorflow/python/keras/engine/training.py\u001b[0m in \u001b[0;36mfit_generator\u001b[0;34m(self, generator, steps_per_epoch, epochs, verbose, callbacks, validation_data, validation_steps, validation_freq, class_weight, max_queue_size, workers, use_multiprocessing, shuffle, initial_epoch)\u001b[0m\n\u001b[1;32m   1827\u001b[0m         \u001b[0muse_multiprocessing\u001b[0m\u001b[0;34m=\u001b[0m\u001b[0muse_multiprocessing\u001b[0m\u001b[0;34m,\u001b[0m\u001b[0;34m\u001b[0m\u001b[0;34m\u001b[0m\u001b[0m\n\u001b[1;32m   1828\u001b[0m         \u001b[0mshuffle\u001b[0m\u001b[0;34m=\u001b[0m\u001b[0mshuffle\u001b[0m\u001b[0;34m,\u001b[0m\u001b[0;34m\u001b[0m\u001b[0;34m\u001b[0m\u001b[0m\n\u001b[0;32m-> 1829\u001b[0;31m         initial_epoch=initial_epoch)\n\u001b[0m\u001b[1;32m   1830\u001b[0m \u001b[0;34m\u001b[0m\u001b[0m\n\u001b[1;32m   1831\u001b[0m   @deprecation.deprecated(\n",
            "\u001b[0;32m/usr/local/lib/python3.6/dist-packages/tensorflow/python/keras/engine/training.py\u001b[0m in \u001b[0;36m_method_wrapper\u001b[0;34m(self, *args, **kwargs)\u001b[0m\n\u001b[1;32m    106\u001b[0m   \u001b[0;32mdef\u001b[0m \u001b[0m_method_wrapper\u001b[0m\u001b[0;34m(\u001b[0m\u001b[0mself\u001b[0m\u001b[0;34m,\u001b[0m \u001b[0;34m*\u001b[0m\u001b[0margs\u001b[0m\u001b[0;34m,\u001b[0m \u001b[0;34m**\u001b[0m\u001b[0mkwargs\u001b[0m\u001b[0;34m)\u001b[0m\u001b[0;34m:\u001b[0m\u001b[0;34m\u001b[0m\u001b[0;34m\u001b[0m\u001b[0m\n\u001b[1;32m    107\u001b[0m     \u001b[0;32mif\u001b[0m \u001b[0;32mnot\u001b[0m \u001b[0mself\u001b[0m\u001b[0;34m.\u001b[0m\u001b[0m_in_multi_worker_mode\u001b[0m\u001b[0;34m(\u001b[0m\u001b[0;34m)\u001b[0m\u001b[0;34m:\u001b[0m  \u001b[0;31m# pylint: disable=protected-access\u001b[0m\u001b[0;34m\u001b[0m\u001b[0;34m\u001b[0m\u001b[0m\n\u001b[0;32m--> 108\u001b[0;31m       \u001b[0;32mreturn\u001b[0m \u001b[0mmethod\u001b[0m\u001b[0;34m(\u001b[0m\u001b[0mself\u001b[0m\u001b[0;34m,\u001b[0m \u001b[0;34m*\u001b[0m\u001b[0margs\u001b[0m\u001b[0;34m,\u001b[0m \u001b[0;34m**\u001b[0m\u001b[0mkwargs\u001b[0m\u001b[0;34m)\u001b[0m\u001b[0;34m\u001b[0m\u001b[0;34m\u001b[0m\u001b[0m\n\u001b[0m\u001b[1;32m    109\u001b[0m \u001b[0;34m\u001b[0m\u001b[0m\n\u001b[1;32m    110\u001b[0m     \u001b[0;31m# Running inside `run_distribute_coordinator` already.\u001b[0m\u001b[0;34m\u001b[0m\u001b[0;34m\u001b[0m\u001b[0;34m\u001b[0m\u001b[0m\n",
            "\u001b[0;32m/usr/local/lib/python3.6/dist-packages/tensorflow/python/keras/engine/training.py\u001b[0m in \u001b[0;36mfit\u001b[0;34m(self, x, y, batch_size, epochs, verbose, callbacks, validation_split, validation_data, shuffle, class_weight, sample_weight, initial_epoch, steps_per_epoch, validation_steps, validation_batch_size, validation_freq, max_queue_size, workers, use_multiprocessing)\u001b[0m\n\u001b[1;32m   1061\u001b[0m           \u001b[0muse_multiprocessing\u001b[0m\u001b[0;34m=\u001b[0m\u001b[0muse_multiprocessing\u001b[0m\u001b[0;34m,\u001b[0m\u001b[0;34m\u001b[0m\u001b[0;34m\u001b[0m\u001b[0m\n\u001b[1;32m   1062\u001b[0m           \u001b[0mmodel\u001b[0m\u001b[0;34m=\u001b[0m\u001b[0mself\u001b[0m\u001b[0;34m,\u001b[0m\u001b[0;34m\u001b[0m\u001b[0;34m\u001b[0m\u001b[0m\n\u001b[0;32m-> 1063\u001b[0;31m           steps_per_execution=self._steps_per_execution)\n\u001b[0m\u001b[1;32m   1064\u001b[0m \u001b[0;34m\u001b[0m\u001b[0m\n\u001b[1;32m   1065\u001b[0m       \u001b[0;31m# Container that configures and calls `tf.keras.Callback`s.\u001b[0m\u001b[0;34m\u001b[0m\u001b[0;34m\u001b[0m\u001b[0;34m\u001b[0m\u001b[0m\n",
            "\u001b[0;32m/usr/local/lib/python3.6/dist-packages/tensorflow/python/keras/engine/data_adapter.py\u001b[0m in \u001b[0;36m__init__\u001b[0;34m(self, x, y, sample_weight, batch_size, steps_per_epoch, initial_epoch, epochs, shuffle, class_weight, max_queue_size, workers, use_multiprocessing, model, steps_per_execution)\u001b[0m\n\u001b[1;32m   1115\u001b[0m         \u001b[0muse_multiprocessing\u001b[0m\u001b[0;34m=\u001b[0m\u001b[0muse_multiprocessing\u001b[0m\u001b[0;34m,\u001b[0m\u001b[0;34m\u001b[0m\u001b[0;34m\u001b[0m\u001b[0m\n\u001b[1;32m   1116\u001b[0m         \u001b[0mdistribution_strategy\u001b[0m\u001b[0;34m=\u001b[0m\u001b[0mds_context\u001b[0m\u001b[0;34m.\u001b[0m\u001b[0mget_strategy\u001b[0m\u001b[0;34m(\u001b[0m\u001b[0;34m)\u001b[0m\u001b[0;34m,\u001b[0m\u001b[0;34m\u001b[0m\u001b[0;34m\u001b[0m\u001b[0m\n\u001b[0;32m-> 1117\u001b[0;31m         model=model)\n\u001b[0m\u001b[1;32m   1118\u001b[0m \u001b[0;34m\u001b[0m\u001b[0m\n\u001b[1;32m   1119\u001b[0m     \u001b[0mstrategy\u001b[0m \u001b[0;34m=\u001b[0m \u001b[0mds_context\u001b[0m\u001b[0;34m.\u001b[0m\u001b[0mget_strategy\u001b[0m\u001b[0;34m(\u001b[0m\u001b[0;34m)\u001b[0m\u001b[0;34m\u001b[0m\u001b[0;34m\u001b[0m\u001b[0m\n",
            "\u001b[0;32m/usr/local/lib/python3.6/dist-packages/tensorflow/python/keras/engine/data_adapter.py\u001b[0m in \u001b[0;36m__init__\u001b[0;34m(self, x, y, sample_weights, shuffle, workers, use_multiprocessing, max_queue_size, model, **kwargs)\u001b[0m\n\u001b[1;32m    914\u001b[0m         \u001b[0mmax_queue_size\u001b[0m\u001b[0;34m=\u001b[0m\u001b[0mmax_queue_size\u001b[0m\u001b[0;34m,\u001b[0m\u001b[0;34m\u001b[0m\u001b[0;34m\u001b[0m\u001b[0m\n\u001b[1;32m    915\u001b[0m         \u001b[0mmodel\u001b[0m\u001b[0;34m=\u001b[0m\u001b[0mmodel\u001b[0m\u001b[0;34m,\u001b[0m\u001b[0;34m\u001b[0m\u001b[0;34m\u001b[0m\u001b[0m\n\u001b[0;32m--> 916\u001b[0;31m         **kwargs)\n\u001b[0m\u001b[1;32m    917\u001b[0m \u001b[0;34m\u001b[0m\u001b[0m\n\u001b[1;32m    918\u001b[0m   \u001b[0;34m@\u001b[0m\u001b[0mstaticmethod\u001b[0m\u001b[0;34m\u001b[0m\u001b[0;34m\u001b[0m\u001b[0m\n",
            "\u001b[0;32m/usr/local/lib/python3.6/dist-packages/tensorflow/python/keras/engine/data_adapter.py\u001b[0m in \u001b[0;36m__init__\u001b[0;34m(self, x, y, sample_weights, workers, use_multiprocessing, max_queue_size, model, **kwargs)\u001b[0m\n\u001b[1;32m    784\u001b[0m     \u001b[0;31m# Since we have to know the dtype of the python generator when we build the\u001b[0m\u001b[0;34m\u001b[0m\u001b[0;34m\u001b[0m\u001b[0;34m\u001b[0m\u001b[0m\n\u001b[1;32m    785\u001b[0m     \u001b[0;31m# dataset, we have to look at a batch to infer the structure.\u001b[0m\u001b[0;34m\u001b[0m\u001b[0;34m\u001b[0m\u001b[0;34m\u001b[0m\u001b[0m\n\u001b[0;32m--> 786\u001b[0;31m     \u001b[0mpeek\u001b[0m\u001b[0;34m,\u001b[0m \u001b[0mx\u001b[0m \u001b[0;34m=\u001b[0m \u001b[0mself\u001b[0m\u001b[0;34m.\u001b[0m\u001b[0m_peek_and_restore\u001b[0m\u001b[0;34m(\u001b[0m\u001b[0mx\u001b[0m\u001b[0;34m)\u001b[0m\u001b[0;34m\u001b[0m\u001b[0;34m\u001b[0m\u001b[0m\n\u001b[0m\u001b[1;32m    787\u001b[0m     \u001b[0mpeek\u001b[0m \u001b[0;34m=\u001b[0m \u001b[0mself\u001b[0m\u001b[0;34m.\u001b[0m\u001b[0m_standardize_batch\u001b[0m\u001b[0;34m(\u001b[0m\u001b[0mpeek\u001b[0m\u001b[0;34m)\u001b[0m\u001b[0;34m\u001b[0m\u001b[0;34m\u001b[0m\u001b[0m\n\u001b[1;32m    788\u001b[0m     \u001b[0mpeek\u001b[0m \u001b[0;34m=\u001b[0m \u001b[0m_process_tensorlike\u001b[0m\u001b[0;34m(\u001b[0m\u001b[0mpeek\u001b[0m\u001b[0;34m)\u001b[0m\u001b[0;34m\u001b[0m\u001b[0;34m\u001b[0m\u001b[0m\n",
            "\u001b[0;32m/usr/local/lib/python3.6/dist-packages/tensorflow/python/keras/engine/data_adapter.py\u001b[0m in \u001b[0;36m_peek_and_restore\u001b[0;34m(x)\u001b[0m\n\u001b[1;32m    918\u001b[0m   \u001b[0;34m@\u001b[0m\u001b[0mstaticmethod\u001b[0m\u001b[0;34m\u001b[0m\u001b[0;34m\u001b[0m\u001b[0m\n\u001b[1;32m    919\u001b[0m   \u001b[0;32mdef\u001b[0m \u001b[0m_peek_and_restore\u001b[0m\u001b[0;34m(\u001b[0m\u001b[0mx\u001b[0m\u001b[0;34m)\u001b[0m\u001b[0;34m:\u001b[0m\u001b[0;34m\u001b[0m\u001b[0;34m\u001b[0m\u001b[0m\n\u001b[0;32m--> 920\u001b[0;31m     \u001b[0;32mreturn\u001b[0m \u001b[0mx\u001b[0m\u001b[0;34m[\u001b[0m\u001b[0;36m0\u001b[0m\u001b[0;34m]\u001b[0m\u001b[0;34m,\u001b[0m \u001b[0mx\u001b[0m\u001b[0;34m\u001b[0m\u001b[0;34m\u001b[0m\u001b[0m\n\u001b[0m\u001b[1;32m    921\u001b[0m \u001b[0;34m\u001b[0m\u001b[0m\n\u001b[1;32m    922\u001b[0m   def _handle_multiprocessing(self, x, workers, use_multiprocessing,\n",
            "\u001b[0;32m/usr/local/lib/python3.6/dist-packages/keras_preprocessing/sequence.py\u001b[0m in \u001b[0;36m__getitem__\u001b[0;34m(self, index)\u001b[0m\n\u001b[1;32m    371\u001b[0m \u001b[0;34m\u001b[0m\u001b[0m\n\u001b[1;32m    372\u001b[0m         samples = np.array([self.data[row - self.length:row:self.sampling_rate]\n\u001b[0;32m--> 373\u001b[0;31m                             for row in rows])\n\u001b[0m\u001b[1;32m    374\u001b[0m         \u001b[0mtargets\u001b[0m \u001b[0;34m=\u001b[0m \u001b[0mnp\u001b[0m\u001b[0;34m.\u001b[0m\u001b[0marray\u001b[0m\u001b[0;34m(\u001b[0m\u001b[0;34m[\u001b[0m\u001b[0mself\u001b[0m\u001b[0;34m.\u001b[0m\u001b[0mtargets\u001b[0m\u001b[0;34m[\u001b[0m\u001b[0mrow\u001b[0m\u001b[0;34m]\u001b[0m \u001b[0;32mfor\u001b[0m \u001b[0mrow\u001b[0m \u001b[0;32min\u001b[0m \u001b[0mrows\u001b[0m\u001b[0;34m]\u001b[0m\u001b[0;34m)\u001b[0m\u001b[0;34m\u001b[0m\u001b[0;34m\u001b[0m\u001b[0m\n\u001b[1;32m    375\u001b[0m \u001b[0;34m\u001b[0m\u001b[0m\n",
            "\u001b[0;32m/usr/local/lib/python3.6/dist-packages/keras_preprocessing/sequence.py\u001b[0m in \u001b[0;36m<listcomp>\u001b[0;34m(.0)\u001b[0m\n\u001b[1;32m    371\u001b[0m \u001b[0;34m\u001b[0m\u001b[0m\n\u001b[1;32m    372\u001b[0m         samples = np.array([self.data[row - self.length:row:self.sampling_rate]\n\u001b[0;32m--> 373\u001b[0;31m                             for row in rows])\n\u001b[0m\u001b[1;32m    374\u001b[0m         \u001b[0mtargets\u001b[0m \u001b[0;34m=\u001b[0m \u001b[0mnp\u001b[0m\u001b[0;34m.\u001b[0m\u001b[0marray\u001b[0m\u001b[0;34m(\u001b[0m\u001b[0;34m[\u001b[0m\u001b[0mself\u001b[0m\u001b[0;34m.\u001b[0m\u001b[0mtargets\u001b[0m\u001b[0;34m[\u001b[0m\u001b[0mrow\u001b[0m\u001b[0;34m]\u001b[0m \u001b[0;32mfor\u001b[0m \u001b[0mrow\u001b[0m \u001b[0;32min\u001b[0m \u001b[0mrows\u001b[0m\u001b[0;34m]\u001b[0m\u001b[0;34m)\u001b[0m\u001b[0;34m\u001b[0m\u001b[0;34m\u001b[0m\u001b[0m\n\u001b[1;32m    375\u001b[0m \u001b[0;34m\u001b[0m\u001b[0m\n",
            "\u001b[0;31mValueError\u001b[0m: slice step cannot be zero"
          ]
        }
      ]
    },
    {
      "cell_type": "code",
      "metadata": {
        "id": "PqDdaB6JS0yk"
      },
      "source": [
        "model.summary()"
      ],
      "execution_count": null,
      "outputs": []
    },
    {
      "cell_type": "code",
      "metadata": {
        "id": "-n_Ep-XVd3ku"
      },
      "source": [
        "# estimate accuracy on test data set using loaded weights\n",
        "model.evaluate_generator(test_generator, verbose=0)"
      ],
      "execution_count": null,
      "outputs": []
    },
    {
      "cell_type": "code",
      "metadata": {
        "id": "z-jMEOpm4NPg"
      },
      "source": [
        "y_test_pred = model.predict_generator(test_generator)\n",
        "x_test_pred = model.predict_generator(generator=train_generator)"
      ],
      "execution_count": null,
      "outputs": []
    },
    {
      "cell_type": "code",
      "metadata": {
        "id": "h25qWw7A9Dn2"
      },
      "source": [
        "y_test_pred.shape[0]"
      ],
      "execution_count": null,
      "outputs": []
    },
    {
      "cell_type": "code",
      "metadata": {
        "id": "WnfXXu3gWUvM"
      },
      "source": [
        "y_test_pred.shape"
      ],
      "execution_count": null,
      "outputs": []
    },
    {
      "cell_type": "code",
      "metadata": {
        "id": "HG3UZ0Wt79MY"
      },
      "source": [
        ""
      ],
      "execution_count": null,
      "outputs": []
    },
    {
      "cell_type": "code",
      "metadata": {
        "id": "AsHqSXGAWfa1"
      },
      "source": [
        "y_test_pred"
      ],
      "execution_count": null,
      "outputs": []
    },
    {
      "cell_type": "code",
      "metadata": {
        "id": "6UaGBGeN9DsL"
      },
      "source": [
        "# x_test_pred"
      ],
      "execution_count": null,
      "outputs": []
    },
    {
      "cell_type": "code",
      "metadata": {
        "id": "rIr0s_MPAo9T"
      },
      "source": [
        ""
      ],
      "execution_count": null,
      "outputs": []
    },
    {
      "cell_type": "code",
      "metadata": {
        "id": "69lC52zr0FQj"
      },
      "source": [
        "x_test_pred"
      ],
      "execution_count": null,
      "outputs": []
    },
    {
      "cell_type": "code",
      "metadata": {
        "id": "AF5zqaN79DuL"
      },
      "source": [
        "len(x_test_pred) #3790 test-> 1032"
      ],
      "execution_count": null,
      "outputs": []
    },
    {
      "cell_type": "code",
      "metadata": {
        "id": "ZvLFh9Np9Dw4"
      },
      "source": [
        "len(y_test_pred) #694"
      ],
      "execution_count": null,
      "outputs": []
    },
    {
      "cell_type": "code",
      "metadata": {
        "id": "ZokSK7cm0P5U"
      },
      "source": [
        "df_pred = pd.concat([pd.DataFrame(y_test_pred), pd.DataFrame(train[:,1:][lengthwind:])],axis=1)"
      ],
      "execution_count": null,
      "outputs": []
    },
    {
      "cell_type": "code",
      "metadata": {
        "id": "AgT6hMm54NSW"
      },
      "source": [
        "rev_trans=scaler.inverse_transform(df_pred)"
      ],
      "execution_count": null,
      "outputs": []
    },
    {
      "cell_type": "code",
      "metadata": {
        "id": "0huIwarH0-Le"
      },
      "source": [
        "df_final = data_input[y_test_pred.shape[0]*-1:]"
      ],
      "execution_count": null,
      "outputs": []
    },
    {
      "cell_type": "code",
      "metadata": {
        "id": "44ljljzF77s4"
      },
      "source": [
        ""
      ],
      "execution_count": null,
      "outputs": []
    },
    {
      "cell_type": "code",
      "metadata": {
        "id": "zmF9Vqwj1PLF"
      },
      "source": [
        "df_final.count()"
      ],
      "execution_count": null,
      "outputs": []
    },
    {
      "cell_type": "code",
      "metadata": {
        "id": "uFJMRML51zLn"
      },
      "source": [
        "# df_final.apply(lambda col: col.drop_duplicates().reset_index(drop=True))"
      ],
      "execution_count": null,
      "outputs": []
    },
    {
      "cell_type": "code",
      "metadata": {
        "id": "pOdIOMNH1Lbl"
      },
      "source": [
        "df_final['Passenger_Pred_value'] = rev_trans[:,0]"
      ],
      "execution_count": null,
      "outputs": []
    },
    {
      "cell_type": "code",
      "metadata": {
        "id": "muYlf_mf4NVI"
      },
      "source": [
        "################################################################################################################"
      ],
      "execution_count": null,
      "outputs": []
    },
    {
      "cell_type": "code",
      "metadata": {
        "id": "-yQETJQemrnV"
      },
      "source": [
        "#example "
      ],
      "execution_count": null,
      "outputs": []
    },
    {
      "cell_type": "code",
      "metadata": {
        "id": "NbkE13YemISi"
      },
      "source": [
        "def mean_square_error(y_true, y_pred):\n",
        "    y_true = np.asmatrix(y_true).reshape(-1)\n",
        "    y_pred = np.asmatrix(y_pred).reshape(-1)\n",
        "\n",
        "    return np.square(np.subtract(y_true, y_pred)).mean()"
      ],
      "execution_count": null,
      "outputs": []
    },
    {
      "cell_type": "code",
      "metadata": {
        "id": "ChBQ-7momKV5"
      },
      "source": [
        "def mean_absolute_percentage_error(y_true, y_pred):\n",
        "    y_true = np.asarray(y_true).reshape(-1)\n",
        "    y_pred = np.asarray(y_pred).reshape(-1)\n",
        "\n",
        "    if len(np.where(y_true == 0)[0]) > 0:\n",
        "        return np.inf\n",
        "    else:\n",
        "        return np.mean(np.abs((y_true - y_pred) / y_true)) * 100"
      ],
      "execution_count": null,
      "outputs": []
    }
  ]
}